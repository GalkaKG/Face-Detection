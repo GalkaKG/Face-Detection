{
 "cells": [
  {
   "cell_type": "code",
   "execution_count": 8,
   "id": "52470874-79a3-48d8-91c8-b83ad0aadfd3",
   "metadata": {},
   "outputs": [],
   "source": [
    "import os\n",
    "import cv2\n",
    "\n",
    "import numpy as np\n",
    "import pandas as pd\n",
    "import matplotlib.pyplot as plt"
   ]
  },
  {
   "cell_type": "markdown",
   "id": "0e2bf4ec-d70b-4e42-b6b2-3e54fbdadbd6",
   "metadata": {},
   "source": [
    "### Train a Custom Face Detection Model \n",
    "Let's train your own face detector, we can use a CNN-based model. Here i will use PyTorch:"
   ]
  },
  {
   "cell_type": "code",
   "execution_count": 9,
   "id": "8493c2ec-d4c6-462f-b03f-5a4aadec5e88",
   "metadata": {},
   "outputs": [],
   "source": [
    "def preprocess_images(image_dir, target_size=(224, 224)):\n",
    "    images = []\n",
    "    labels = []  # This will be used if you're working with labeled data like LFW\n",
    "    # image_folder = os.path.join(image_dir, 'lfw-deepfunneled')  # Path to the folder containing images\n",
    "    \n",
    "    for root, dirs, files in os.walk(image_dir):  # Traverse through subfolders\n",
    "        for file in files:\n",
    "            if file.endswith(('jpg', 'jpeg', 'png')):  # Ensure you're processing image files\n",
    "                img_path = os.path.join(root, file)\n",
    "                img = cv2.imread(img_path)\n",
    "                if img is not None:\n",
    "                    # Resize image to target size\n",
    "                    img = cv2.resize(img, target_size)\n",
    "                    # Convert image to grayscale (optional)\n",
    "                    # img = cv2.cvtColor(img, cv2.COLOR_BGR2GRAY)\n",
    "                    images.append(img)\n",
    "                   \n",
    "    images = np.array(images)\n",
    "    return images"
   ]
  },
  {
   "cell_type": "code",
   "execution_count": 10,
   "id": "4c7263ba-76c6-440b-abbc-ce7b4bde521f",
   "metadata": {},
   "outputs": [],
   "source": [
    "wf_data_path = \"C:/Users/galin/Downloads/LFW dataset/lfw-deepfunneled\"\n",
    "lfw_images = preprocess_images(wf_data_path)"
   ]
  },
  {
   "cell_type": "code",
   "execution_count": 12,
   "id": "21179381-2fcc-44fd-905f-333f6df271fa",
   "metadata": {},
   "outputs": [],
   "source": [
    "import torch\n",
    "import torch.nn as nn\n",
    "import torch.optim as optim\n",
    "from torchvision import transforms, datasets\n",
    "from torch.utils.data import DataLoader\n",
    "\n",
    "# Define a basic CNN architecture\n",
    "class FaceDetectorCNN(nn.Module):\n",
    "    def __init__(self):\n",
    "        super(FaceDetectorCNN, self).__init__()\n",
    "        self.conv1 = nn.Conv2d(1, 32, 3, 1)\n",
    "        self.conv2 = nn.Conv2d(32, 64, 3, 1)\n",
    "        self.fc1 = nn.Linear(64*54*54, 128)\n",
    "        self.fc2 = nn.Linear(128, 2)  # Binary classification: face or no face\n",
    "\n",
    "    def forward(self, x):\n",
    "        x = torch.relu(self.conv1(x))\n",
    "        x = torch.relu(self.conv2(x))\n",
    "        x = torch.flatten(x, 1)\n",
    "        x = torch.relu(self.fc1(x))\n",
    "        x = self.fc2(x)\n",
    "        return x\n",
    "\n",
    "# Prepare your data\n",
    "transform = transforms.Compose([transforms.Resize((224, 224)),\n",
    "                                transforms.ToTensor()])\n",
    "\n",
    "# Use your preprocessed datasets (wider_images/lfw_images) here\n",
    "train_dataset = datasets.ImageFolder(lfw_images, transform=transform)\n",
    "train_loader = DataLoader(train_dataset, batch_size=32, shuffle=True)\n",
    "\n",
    "# Initialize model, loss, and optimizer\n",
    "model = FaceDetectorCNN()\n",
    "criterion = nn.CrossEntropyLoss()\n",
    "optimizer = optim.Adam(model.parameters(), lr=0.001)\n",
    "\n",
    "# Training loop\n",
    "for epoch in range(10):  # Train for 10 epochs\n",
    "    for images, labels in train_loader:\n",
    "        optimizer.zero_grad()\n",
    "        outputs = model(images)\n",
    "        loss = criterion(outputs, labels)\n",
    "        loss.backward()\n",
    "        optimizer.step()\n",
    "    \n",
    "    print(f'Epoch {epoch+1}, Loss: {loss.item()}')\n"
   ]
  }
 ],
 "metadata": {
  "kernelspec": {
   "display_name": "Python 3 (ipykernel)",
   "language": "python",
   "name": "python3"
  },
  "language_info": {
   "codemirror_mode": {
    "name": "ipython",
    "version": 3
   },
   "file_extension": ".py",
   "mimetype": "text/x-python",
   "name": "python",
   "nbconvert_exporter": "python",
   "pygments_lexer": "ipython3",
   "version": "3.9.12"
  }
 },
 "nbformat": 4,
 "nbformat_minor": 5
}
