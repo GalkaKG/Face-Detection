{
 "cells": [
  {
   "cell_type": "code",
   "execution_count": 3,
   "id": "52470874-79a3-48d8-91c8-b83ad0aadfd3",
   "metadata": {},
   "outputs": [],
   "source": [
    "import os\n",
    "import cv2\n",
    "\n",
    "import numpy as np\n",
    "import pandas as pd\n",
    "import matplotlib.pyplot as plt"
   ]
  },
  {
   "cell_type": "markdown",
   "id": "d6f40d61-26a6-4220-9849-633624bd746a",
   "metadata": {},
   "source": [
    "### Read meta data "
   ]
  },
  {
   "cell_type": "code",
   "execution_count": 4,
   "id": "320a36ab-325e-4ed3-8d9c-eb361f883733",
   "metadata": {},
   "outputs": [],
   "source": [
    "people_df = pd.read_csv('C:/Users/galin/Downloads/LFW dataset/people.csv')\n",
    "people_train_df = pd.read_csv('C:/Users/galin/Downloads/LFW dataset/peopleDevTrain.csv')\n",
    "people_test_df = pd.read_csv('C:/Users/galin/Downloads/LFW dataset/peopleDevTest.csv')"
   ]
  },
  {
   "cell_type": "code",
   "execution_count": 5,
   "id": "fce58ace-693d-4089-8456-ce8f60791f99",
   "metadata": {},
   "outputs": [
    {
     "data": {
      "text/html": [
       "<div>\n",
       "<style scoped>\n",
       "    .dataframe tbody tr th:only-of-type {\n",
       "        vertical-align: middle;\n",
       "    }\n",
       "\n",
       "    .dataframe tbody tr th {\n",
       "        vertical-align: top;\n",
       "    }\n",
       "\n",
       "    .dataframe thead th {\n",
       "        text-align: right;\n",
       "    }\n",
       "</style>\n",
       "<table border=\"1\" class=\"dataframe\">\n",
       "  <thead>\n",
       "    <tr style=\"text-align: right;\">\n",
       "      <th></th>\n",
       "      <th>name</th>\n",
       "      <th>images</th>\n",
       "    </tr>\n",
       "  </thead>\n",
       "  <tbody>\n",
       "    <tr>\n",
       "      <th>0</th>\n",
       "      <td>AJ_Cook</td>\n",
       "      <td>1</td>\n",
       "    </tr>\n",
       "    <tr>\n",
       "      <th>1</th>\n",
       "      <td>Aaron_Eckhart</td>\n",
       "      <td>1</td>\n",
       "    </tr>\n",
       "    <tr>\n",
       "      <th>2</th>\n",
       "      <td>Aaron_Patterson</td>\n",
       "      <td>1</td>\n",
       "    </tr>\n",
       "    <tr>\n",
       "      <th>3</th>\n",
       "      <td>Aaron_Peirsol</td>\n",
       "      <td>4</td>\n",
       "    </tr>\n",
       "    <tr>\n",
       "      <th>4</th>\n",
       "      <td>Aaron_Pena</td>\n",
       "      <td>1</td>\n",
       "    </tr>\n",
       "    <tr>\n",
       "      <th>...</th>\n",
       "      <td>...</td>\n",
       "      <td>...</td>\n",
       "    </tr>\n",
       "    <tr>\n",
       "      <th>4033</th>\n",
       "      <td>Zinedine_Zidane</td>\n",
       "      <td>6</td>\n",
       "    </tr>\n",
       "    <tr>\n",
       "      <th>4034</th>\n",
       "      <td>Ziwang_Xu</td>\n",
       "      <td>1</td>\n",
       "    </tr>\n",
       "    <tr>\n",
       "      <th>4035</th>\n",
       "      <td>Zorica_Radovic</td>\n",
       "      <td>1</td>\n",
       "    </tr>\n",
       "    <tr>\n",
       "      <th>4036</th>\n",
       "      <td>Zumrati_Juma</td>\n",
       "      <td>1</td>\n",
       "    </tr>\n",
       "    <tr>\n",
       "      <th>4037</th>\n",
       "      <td>Zydrunas_Ilgauskas</td>\n",
       "      <td>1</td>\n",
       "    </tr>\n",
       "  </tbody>\n",
       "</table>\n",
       "<p>4038 rows × 2 columns</p>\n",
       "</div>"
      ],
      "text/plain": [
       "                    name  images\n",
       "0                AJ_Cook       1\n",
       "1          Aaron_Eckhart       1\n",
       "2        Aaron_Patterson       1\n",
       "3          Aaron_Peirsol       4\n",
       "4             Aaron_Pena       1\n",
       "...                  ...     ...\n",
       "4033     Zinedine_Zidane       6\n",
       "4034           Ziwang_Xu       1\n",
       "4035      Zorica_Radovic       1\n",
       "4036        Zumrati_Juma       1\n",
       "4037  Zydrunas_Ilgauskas       1\n",
       "\n",
       "[4038 rows x 2 columns]"
      ]
     },
     "execution_count": 5,
     "metadata": {},
     "output_type": "execute_result"
    }
   ],
   "source": [
    "people_train_df"
   ]
  },
  {
   "cell_type": "code",
   "execution_count": null,
   "id": "040fa498-b1a7-4c80-9731-9d3c0d277c23",
   "metadata": {},
   "outputs": [],
   "source": []
  },
  {
   "cell_type": "code",
   "execution_count": null,
   "id": "6d660cc2-cc9e-4a06-8ee3-f5fe71f60286",
   "metadata": {},
   "outputs": [],
   "source": []
  },
  {
   "cell_type": "code",
   "execution_count": null,
   "id": "363213c3-84dc-4a93-86d5-da9e1bdebeba",
   "metadata": {},
   "outputs": [],
   "source": []
  }
 ],
 "metadata": {
  "kernelspec": {
   "display_name": "Python 3 (ipykernel)",
   "language": "python",
   "name": "python3"
  },
  "language_info": {
   "codemirror_mode": {
    "name": "ipython",
    "version": 3
   },
   "file_extension": ".py",
   "mimetype": "text/x-python",
   "name": "python",
   "nbconvert_exporter": "python",
   "pygments_lexer": "ipython3",
   "version": "3.9.12"
  }
 },
 "nbformat": 4,
 "nbformat_minor": 5
}
